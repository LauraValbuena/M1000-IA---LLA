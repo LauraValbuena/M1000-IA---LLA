{
 "cells": [
  {
   "cell_type": "markdown",
   "metadata": {
    "id": "i0DHs6SrMDc_"
   },
   "source": [
    "# CONSOLIDAR LOS DATASETS C-NMC_Leukemia & ALL_IDB2"
   ]
  },
  {
   "cell_type": "markdown",
   "metadata": {},
   "source": [
    "1. Creamos la carpeta donde se consilidaran los datos malignos y benignos"
   ]
  },
  {
   "cell_type": "code",
   "execution_count": 26,
   "metadata": {},
   "outputs": [],
   "source": [
    "pathMalignant = os.path.join(dircreate, 'Malignant')\n",
    "pathBenign = os.path.join(dircreate, 'Benign')\n",
    "try:\n",
    "    os.makedirs(pathMalignant)\n",
    "    os.makedirs(pathBenign)\n",
    "except OSError as error:\n",
    "    pass"
   ]
  },
  {
   "cell_type": "markdown",
   "metadata": {},
   "source": [
    "2. Seleccionar datos Malignos y Benignos del DataSet C-NMC_Leukemia"
   ]
  },
  {
   "cell_type": "code",
   "execution_count": 27,
   "metadata": {},
   "outputs": [
    {
     "name": "stdout",
     "output_type": "stream",
     "text": [
      "C:\\Users\\Laura Valbuena\\Documents\\Proyecto\\DataSet\\\n"
     ]
    }
   ],
   "source": [
    "dirname = os.path.join(os.getcwd(), 'C-NMC_Leukemia/training_data') + os.sep\n",
    "dircreate = os.path.join(os.getcwd(), 'DataSet') + os.sep\n",
    "#imgpath = dirname + os.sep \n",
    "print(dircreate)"
   ]
  },
  {
   "cell_type": "code",
   "execution_count": 28,
   "metadata": {},
   "outputs": [
    {
     "name": "stdout",
     "output_type": "stream",
     "text": [
      "Imagenes Malignas 7272\n",
      "Imagenes Benignas 3389\n"
     ]
    }
   ],
   "source": [
    "cant_all = 0\n",
    "cant_hem = 0       \n",
    "for root, dirnames, filenames in os.walk(dirname):\n",
    "    head_tail  = os.path.split(root)\n",
    "    if head_tail[1] == 'all':\n",
    "        for filename in filenames:\n",
    "            if re.search(\"\\.(jpg|jpeg|png|bmp|tif)$\", filename):\n",
    "                cant_all=cant_all+1\n",
    "                filepath = os.path.join(root, filename)\n",
    "                try:\n",
    "                    shutil.copy(filepath, pathMalignant)\n",
    "                except OSError as error:\n",
    "                    pass\n",
    "    else:\n",
    "        for filename in filenames:\n",
    "            if re.search(\"\\.(jpg|jpeg|png|bmp|tif)$\", filename):\n",
    "                cant_hem=cant_hem+1\n",
    "                filepath = os.path.join(root, filename)\n",
    "                try:\n",
    "                    shutil.copy(filepath, pathBenign)\n",
    "                except OSError as error:\n",
    "                    pass\n",
    "                \n",
    "print(\"Imagenes Malignas\", cant_all)\n",
    "print(\"Imagenes Benignas\", cant_hem)"
   ]
  },
  {
   "cell_type": "markdown",
   "metadata": {},
   "source": [
    "3. Seleccionar datos Malignos y Benignos del DataSet ALL_IDB2"
   ]
  },
  {
   "cell_type": "code",
   "execution_count": 29,
   "metadata": {},
   "outputs": [
    {
     "name": "stdout",
     "output_type": "stream",
     "text": [
      "C:\\Users\\Laura Valbuena\\Documents\\Proyecto\\ALL_IDB2/ALL_IDB2\\\n"
     ]
    }
   ],
   "source": [
    "dirname = os.path.join(os.getcwd(), 'ALL_IDB2/ALL_IDB2') + os.sep\n",
    "print(dirname)"
   ]
  },
  {
   "cell_type": "code",
   "execution_count": 30,
   "metadata": {},
   "outputs": [
    {
     "name": "stdout",
     "output_type": "stream",
     "text": [
      "Imagenes Malignas 130\n",
      "Imagenes Benignas 130\n"
     ]
    }
   ],
   "source": [
    "cant_1 = 0\n",
    "cant_0 = 0       \n",
    "for root, dirnames, filenames in os.walk(dirname):\n",
    "    head_tail  = os.path.split(root)\n",
    "    for filename in filenames:\n",
    "        if re.search(\"\\.(jpg|jpeg|png|bmp|tif)$\", filename):\n",
    "            filepath = os.path.join(root, filename)\n",
    "            identificador = filename[6:7]\n",
    "            if filename[6:7] == '1':\n",
    "                cant_1=cant_1+1\n",
    "                try:\n",
    "                    shutil.copy(filepath, pathMalignant)\n",
    "                except OSError as error:\n",
    "                    pass\n",
    "            else:\n",
    "                cant_0=cant_0+1\n",
    "                try:\n",
    "                    shutil.copy(filepath, pathBenign)\n",
    "                except OSError as error:\n",
    "                    pass\n",
    "print(\"Imagenes Malignas\", cant_1)\n",
    "print(\"Imagenes Benignas\", cant_0)"
   ]
  },
  {
   "cell_type": "code",
   "execution_count": 31,
   "metadata": {},
   "outputs": [
    {
     "name": "stdout",
     "output_type": "stream",
     "text": [
      "Finalizo la consolidación del dataset\n",
      "En total se movieron la siguientes cantidad de imagenes para cada caso:\n",
      "Total Imagenes Malignas 7402\n",
      "Total Imagenes Benignas 3519\n",
      "TOTAL 10921\n"
     ]
    }
   ],
   "source": [
    "print(\"Finalizo la consolidación del dataset\")\n",
    "print(\"En total se movieron la siguientes cantidad de imagenes para cada caso:\")\n",
    "print(\"Total Imagenes Malignas\", cant_1 + cant_all)\n",
    "print(\"Total Imagenes Benignas\", cant_0 + cant_hem)\n",
    "print(\"TOTAL\", cant_1 + cant_all + cant_0 + cant_hem)"
   ]
  },
  {
   "cell_type": "markdown",
   "metadata": {
    "id": "t3JVsV8qXC18"
   },
   "source": []
  }
 ],
 "metadata": {
  "colab": {
   "provenance": []
  },
  "kernelspec": {
   "display_name": "Python 3 (ipykernel)",
   "language": "python",
   "name": "python3"
  },
  "language_info": {
   "codemirror_mode": {
    "name": "ipython",
    "version": 3
   },
   "file_extension": ".py",
   "mimetype": "text/x-python",
   "name": "python",
   "nbconvert_exporter": "python",
   "pygments_lexer": "ipython3",
   "version": "3.9.13"
  }
 },
 "nbformat": 4,
 "nbformat_minor": 1
}
